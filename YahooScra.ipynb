{
 "cells": [
  {
   "cell_type": "markdown",
   "metadata": {},
   "source": [
    "# Yahoo Groups message scraper\n",
    "\n",
    "This notebookprovides code that will dowload messages from *private* Yahoo Groups. Another notebook `ScrapeBuild.jpynb` uses  [reqeusts](http://docs.python-requests.org/en/latest/user/install/). This notebook uses [Selenium](http://selenium-python.readthedocs.io/).\n"
   ]
  },
  {
   "cell_type": "code",
   "execution_count": 1,
   "metadata": {},
   "outputs": [],
   "source": [
    "from selenium import webdriver\n",
    "from bs4 import BeautifulSoup\n",
    "import datetime\n",
    "import time\n",
    "import sys"
   ]
  },
  {
   "cell_type": "code",
   "execution_count": 2,
   "metadata": {},
   "outputs": [
    {
     "name": "stdout",
     "output_type": "stream",
     "text": [
      "What is the group name you seek to scape?  backwoodspaintball\n"
     ]
    }
   ],
   "source": [
    "# Get groupname from user.\n",
    "grp_name = input(prompt='What is the group name you seek to scape?  ')\n",
    "# Give grp_name a default if no input.\n",
    "if grp_name == '':\n",
    "    grp_name = 'concatenative'"
   ]
  },
  {
   "cell_type": "code",
   "execution_count": 3,
   "metadata": {},
   "outputs": [
    {
     "name": "stdout",
     "output_type": "stream",
     "text": [
      "Visit browser, log in credentials, press enter here when ready to continue.\n"
     ]
    }
   ],
   "source": [
    "browser = webdriver.Chrome()\n",
    "discarded_wait = input('Visit browser, log in credentials, press enter here when ready to continue.')"
   ]
  },
  {
   "cell_type": "code",
   "execution_count": 4,
   "metadata": {},
   "outputs": [],
   "source": [
    "# Define a list to log successful attempts & error counter.\n",
    "fetch_log = []\n",
    "error_count = 0\n",
    "\n",
    "# Iterate through the private group messages. The most recent group message number \n",
    "# can be found at: https://groups.yahoo.com/api/v1/groups/<groupname>/messages?count=10\n",
    "# Parse the results to discern the most recent message number.\n",
    "for i in range(120,100,-1):\n",
    "    fetch_log.append(\n",
    "        ('{} Working on message {}. Going backwards from 32811.'.format(\n",
    "        str(datetime.datetime.now()), str(i))))\n",
    "    try:\n",
    "        browser.get(\n",
    "            ''.join(\n",
    "                (r'https://groups.yahoo.com/api/v1/groups/', grp_name, r'/messages/', str(i), r'/')))\n",
    "        the_source = browser.page_source\n",
    "        a_file = open(r'msgs\\'' + grp_name + '_' + str(i) + '.html', 'w', encoding='utf-8')\n",
    "        a_file.write(the_source)\n",
    "        a_file.close()\n",
    "\n",
    "        the_text = the_source[the_source.find(r'{'):-20]\n",
    "        b_file = open(r'msgs\\msg_no_' + str(i) + '.txt', 'w', encoding='utf-8')\n",
    "        b_file.write(the_text)\n",
    "        b_file.close()\n",
    "    except:\n",
    "        fetch_log.append(\n",
    "            'Error loading and/or saving message {}. Error count is {}.'.format(i, error_count))\n",
    "        error_count += 1\n",
    "        if error_count > 100:\n",
    "            sys.exit()\n",
    "\n",
    "    # Optionally pause to assist in avoiding CAPTCHA and other anti-robot features.\n",
    "    # time.sleep(1)"
   ]
  },
  {
   "cell_type": "code",
   "execution_count": 5,
   "metadata": {},
   "outputs": [
    {
     "data": {
      "text/plain": [
       "<function TextIOWrapper.close>"
      ]
     },
     "execution_count": 5,
     "metadata": {},
     "output_type": "execute_result"
    }
   ],
   "source": [
    "# Save fetch_log for later reference.\n",
    "with open(\n",
    "    ''.join((\n",
    "        grp_name, '_fetch_log_', \n",
    "        str(datetime.datetime.now())[2:16].replace(\" \", \"-\").replace(\":\",\"\"), \n",
    "        '.log')), mode='w') as logfile:\n",
    "            print('This is the log of fetched messages file from {}'.format(\n",
    "                str(datetime.datetime.now())), file=logfile)\n",
    "            print('Yahoo Group name {}.'.format(grp_name), file=logfile)\n",
    "            for fetch_line in fetch_log:\n",
    "                print(fetch_line, file = logfile)\n",
    "logfile.close"
   ]
  },
  {
   "cell_type": "code",
   "execution_count": 6,
   "metadata": {},
   "outputs": [],
   "source": [
    "import pandas as pd\n",
    "import json\n",
    "import datetime"
   ]
  },
  {
   "cell_type": "code",
   "execution_count": 7,
   "metadata": {},
   "outputs": [],
   "source": [
    "# Define a list to hold structured data.\n",
    "grandlist = []\n",
    "\n",
    "for i in range(120,100,-1):\n",
    "    # Define list to hold current record.\n",
    "    observation = []\n",
    "    raw_file = open(r'msgs\\'' + grp_name + '_' + str(i) + '.html', 'r', encoding = 'utf-8')\n",
    "    \n",
    "    soup = BeautifulSoup(raw_file, 'html.parser')\n",
    "    raw_json = soup.get_text()\n",
    "    prs_msg = json.loads(raw_json, encoding = 'utf-8')\n",
    "    \n",
    "    # Add each variable to the current observation.\n",
    "    observation.append(prs_msg['ygData']['userId'])\n",
    "    observation.append(prs_msg['ygData']['authorName'])\n",
    "    observation.append(str(prs_msg['ygData']['subject']).strip())\n",
    "    observation.append(\n",
    "        datetime.datetime.fromtimestamp(\n",
    "            int(prs_msg['ygData']['postDate'])).strftime('%Y-%m-%d %H:%M:%S'))\n",
    "    observation.append(prs_msg['ygData']['msgId'])\n",
    "    observation.append(prs_msg['ygData']['numMessagesInTopic'])\n",
    "    \n",
    "    # Add current observation to grandlist.\n",
    "    grandlist.append(observation)"
   ]
  },
  {
   "cell_type": "code",
   "execution_count": 8,
   "metadata": {},
   "outputs": [],
   "source": [
    "pd_dataset = pd.DataFrame(grandlist, columns=\n",
    "    ['userID', 'authorName', 'subject', 'postDate', \n",
    "     'msgId', 'numInTopic'])"
   ]
  },
  {
   "cell_type": "code",
   "execution_count": 9,
   "metadata": {},
   "outputs": [
    {
     "data": {
      "text/html": [
       "<div>\n",
       "<style scoped>\n",
       "    .dataframe tbody tr th:only-of-type {\n",
       "        vertical-align: middle;\n",
       "    }\n",
       "\n",
       "    .dataframe tbody tr th {\n",
       "        vertical-align: top;\n",
       "    }\n",
       "\n",
       "    .dataframe thead th {\n",
       "        text-align: right;\n",
       "    }\n",
       "</style>\n",
       "<table border=\"1\" class=\"dataframe\">\n",
       "  <thead>\n",
       "    <tr style=\"text-align: right;\">\n",
       "      <th></th>\n",
       "      <th>userID</th>\n",
       "      <th>authorName</th>\n",
       "      <th>subject</th>\n",
       "      <th>postDate</th>\n",
       "      <th>msgId</th>\n",
       "      <th>numInTopic</th>\n",
       "    </tr>\n",
       "  </thead>\n",
       "  <tbody>\n",
       "    <tr>\n",
       "      <th>0</th>\n",
       "      <td>0</td>\n",
       "      <td>shadowsilence1</td>\n",
       "      <td>Re: Wow this site</td>\n",
       "      <td>2001-03-28 20:39:03</td>\n",
       "      <td>120</td>\n",
       "      <td>137</td>\n",
       "    </tr>\n",
       "    <tr>\n",
       "      <th>1</th>\n",
       "      <td>0</td>\n",
       "      <td>viper_rc1</td>\n",
       "      <td>Re: Wow this site</td>\n",
       "      <td>2001-03-27 19:22:21</td>\n",
       "      <td>119</td>\n",
       "      <td>137</td>\n",
       "    </tr>\n",
       "    <tr>\n",
       "      <th>2</th>\n",
       "      <td>0</td>\n",
       "      <td>jbossxc16</td>\n",
       "      <td>Wow this site</td>\n",
       "      <td>2001-03-26 18:51:31</td>\n",
       "      <td>118</td>\n",
       "      <td>137</td>\n",
       "    </tr>\n",
       "    <tr>\n",
       "      <th>3</th>\n",
       "      <td>0</td>\n",
       "      <td>mod70win</td>\n",
       "      <td>Re: tippman grenade</td>\n",
       "      <td>2001-03-20 20:07:39</td>\n",
       "      <td>117</td>\n",
       "      <td>137</td>\n",
       "    </tr>\n",
       "    <tr>\n",
       "      <th>4</th>\n",
       "      <td>0</td>\n",
       "      <td>jbossxc16</td>\n",
       "      <td>Re: Does anybody know...</td>\n",
       "      <td>2001-03-20 19:54:45</td>\n",
       "      <td>116</td>\n",
       "      <td>137</td>\n",
       "    </tr>\n",
       "  </tbody>\n",
       "</table>\n",
       "</div>"
      ],
      "text/plain": [
       "   userID      authorName                   subject             postDate  \\\n",
       "0       0  shadowsilence1         Re: Wow this site  2001-03-28 20:39:03   \n",
       "1       0       viper_rc1         Re: Wow this site  2001-03-27 19:22:21   \n",
       "2       0       jbossxc16             Wow this site  2001-03-26 18:51:31   \n",
       "3       0        mod70win       Re: tippman grenade  2001-03-20 20:07:39   \n",
       "4       0       jbossxc16  Re: Does anybody know...  2001-03-20 19:54:45   \n",
       "\n",
       "   msgId  numInTopic  \n",
       "0    120         137  \n",
       "1    119         137  \n",
       "2    118         137  \n",
       "3    117         137  \n",
       "4    116         137  "
      ]
     },
     "execution_count": 9,
     "metadata": {},
     "output_type": "execute_result"
    }
   ],
   "source": [
    "# Check results.\n",
    "pd_dataset.head()"
   ]
  },
  {
   "cell_type": "code",
   "execution_count": null,
   "metadata": {},
   "outputs": [],
   "source": []
  }
 ],
 "metadata": {
  "kernelspec": {
   "display_name": "Python 3",
   "language": "python",
   "name": "python3"
  },
  "language_info": {
   "codemirror_mode": {
    "name": "ipython",
    "version": 3
   },
   "file_extension": ".py",
   "mimetype": "text/x-python",
   "name": "python",
   "nbconvert_exporter": "python",
   "pygments_lexer": "ipython3",
   "version": "3.6.4"
  }
 },
 "nbformat": 4,
 "nbformat_minor": 2
}
