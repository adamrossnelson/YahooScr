{
 "cells": [
  {
   "cell_type": "markdown",
   "metadata": {},
   "source": [
    "# Yahoo Groups message scraper\n",
    "\n",
    "This notebook provides code that will dowload messages from *private* Yahoo Groups. Another notebook `YahooScra.jpynb` uses [Selenium](http://selenium-python.readthedocs.io/). This notebook uses [reqeusts](http://docs.python-requests.org/en/latest/user/install/).\n",
    "\n",
    "Another GitHub.com repository ([YahooGroups-Archiver](https://github.com/andrewferguson/YahooGroups-Archiver)) provided guidance related to accessing *private* Yahoo Groups. After logging into the private group you need to provide two pieces of information from the cookies:\n",
    "\n",
    "> Cookie information can be found through the use of a plug-in for\n",
    "> your web browser. (I use 'Cookie Manager' on FireFox, although\n",
    "> there are many other options for FireFox and other browsers). The\n",
    "> two cookies you are looking for are called Y and T, and they are \n",
    "> linked to the domain yahoo.com. Extract the data from these \n",
    "> cookies, and paste it into the appropriate variables... a cookie\n",
    "> will expire after a certain amount of time, which varies between \n",
    "> computers. This means that you may have to re-fetch the Y and T \n",
    "> cookie data every few days, or you will not be able to archive \n",
    "> private groups. ([YahooGroups-Archiver](https://github.com/andrewferguson/YahooGroups-Archiver))\n",
    "\n",
    "(Last tested April 21, 2018)"
   ]
  },
  {
   "cell_type": "code",
   "execution_count": 1,
   "metadata": {},
   "outputs": [],
   "source": [
    "import pandas as pd\n",
    "from pandas import Series, DataFrame\n",
    "from bs4 import BeautifulSoup\n",
    "import requests\n",
    "import json\n",
    "import datetime\n",
    "import time"
   ]
  },
  {
   "cell_type": "code",
   "execution_count": 2,
   "metadata": {},
   "outputs": [
    {
     "name": "stdout",
     "output_type": "stream",
     "text": [
      "What is the group name you seek to scape?  \n"
     ]
    }
   ],
   "source": [
    "# Get groupname from user.\n",
    "grp_name = input(prompt='What is the group name you seek to scape?  ')\n",
    "# Give grp_name a default if no input.\n",
    "if grp_name == '':\n",
    "    grp_name = 'concatenative'"
   ]
  },
  {
   "cell_type": "code",
   "execution_count": 3,
   "metadata": {},
   "outputs": [],
   "source": [
    "# These variables will take the cookies from 'Cookie Manager' discussed above as strings.\n",
    "cookie_T = ''\n",
    "cookie_Y = ''\n",
    "\n",
    "# Define a list to log successful attempts.\n",
    "fetch_log = []\n",
    "\n",
    "# Iterate through the private group messages. The most recent group message number \n",
    "# can be found at: https://groups.yahoo.com/api/v1/groups/<groupname>/messages?count=10\n",
    "# Parse the results to discern the most recent message number.\n",
    "for i in range(120,100,-1):\n",
    "    fetch_log.append(\n",
    "        ('{} Working on message {}. Going backwards from 32811.'.format(\n",
    "            str(datetime.datetime.now()), str(i))))\n",
    "    # For demonstration purposes use a generic groupsuch as 'concatenative'\n",
    "    post = requests.get(\n",
    "        ''.join(\n",
    "            (r'https://groups.yahoo.com/api/v1/groups/', grp_name, r'/messages/', str(i), r'/')),\n",
    "             cookies={'T': cookie_T, 'Y': cookie_Y})\n",
    "    \n",
    "    # Yahoo Groups api returns JSON.\n",
    "    post_parsed = json.loads(post.text)\n",
    "    \n",
    "    # The api result uses html in the messageBody.\n",
    "    soup = BeautifulSoup(post_parsed['ygData']['messageBody'], 'html.parser')\n",
    "    soupstring = soup.get_text()\n",
    "    \n",
    "    # Optionally remove comments from html\n",
    "    # pullstring = soupstring[soupstring.find('<!--'):soupstring.find('-->')+3]\n",
    "    # cleanstring = soupstring.replace(pullstring,'')\n",
    "    \n",
    "    # Save the message body as a .txt file.\n",
    "    post_file = open(r'msgs\\'' + grp_name + '_' + str(i) + r'_post.txt', 'w', encoding='utf-8')\n",
    "    # post_file.write(cleanstring)\n",
    "    post_file.write(soupstring)\n",
    "    post_file.close()\n",
    "    \n",
    "    # Save the api result as a .json file.\n",
    "    json_file = open(r'msgs\\'' + grp_name + '_' + str(i) + r'_json.json', 'w', encoding='utf-8')\n",
    "    json_file.write(post.text)\n",
    "    json_file.close()\n",
    "    \n",
    "    # Optionally pause to assist in avoiding CAPTCHA and other anti-robot features.\n",
    "    time.sleep(.1)"
   ]
  },
  {
   "cell_type": "code",
   "execution_count": 4,
   "metadata": {},
   "outputs": [
    {
     "data": {
      "text/plain": [
       "<function TextIOWrapper.close>"
      ]
     },
     "execution_count": 4,
     "metadata": {},
     "output_type": "execute_result"
    }
   ],
   "source": [
    "# Save fetch_log for later reference.\n",
    "with open(\n",
    "    ''.join((\n",
    "        grp_name, '_fetch_log_', \n",
    "        str(datetime.datetime.now())[2:16].replace(\" \", \"-\").replace(\":\",\"\"), \n",
    "        '.log')), mode='w') as logfile:\n",
    "            print('This is the log of fetched messages file from {}'.format(\n",
    "                str(datetime.datetime.now())), file=logfile)\n",
    "            print('Yahoo Group name {}.'.format(grp_name), file=logfile)\n",
    "            for fetch_line in fetch_log:\n",
    "                print(fetch_line, file = logfile)\n",
    "logfile.close"
   ]
  },
  {
   "cell_type": "code",
   "execution_count": 5,
   "metadata": {},
   "outputs": [],
   "source": [
    "# Build a dataset from the files created above.\n",
    "\n",
    "# Define a list to log errors.\n",
    "error_log  = []\n",
    "\n",
    "# Define a list to hold structured data.\n",
    "grandlist = []\n",
    "\n",
    "# Iterate through the message files.\n",
    "for i in range(120,100,-1):\n",
    "    try:\n",
    "        work_file = open(r'msgs\\'' + grp_name + '_' + str(i) + r'_json.json', 'r', encoding='utf-8')\n",
    "        work_parse = json.loads(work_file.read())\n",
    "        \n",
    "        # Define list to hold current record.\n",
    "        mylist = []\n",
    "        mylist = [\n",
    "            work_parse['ygData']['userId'],\n",
    "            work_parse['ygData']['authorName'],\n",
    "            work_parse['ygData']['subject'],\n",
    "            work_parse['ygData']['postDate'],\n",
    "            str(datetime.datetime.fromtimestamp(\n",
    "                int(work_parse['ygData']['postDate'])).strftime('%Y-%m-%d %H:%M:%S')),\n",
    "            work_parse['ygData']['msgId'],\n",
    "            work_parse['ygData']['prevInTopic'],\n",
    "            work_parse['ygData']['nextInTopic'],\n",
    "            work_parse['ygData']['prevInTime'],\n",
    "            work_parse['ygData']['nextInTime'],\n",
    "            work_parse['ygData']['topicId'],\n",
    "            work_parse['ygData']['numMessagesInTopic']]\n",
    "        work_file.close()\n",
    "        \n",
    "        # Optionally add the message body to the current observation.\n",
    "        # My use case involved adding the message body using Stata instead of Python.\n",
    "        \n",
    "        # work_file = open(r'msgs\\'' + grp_name + '_' + str(i) + r'_post.txt', 'r', encoding='utf-8')\n",
    "        # mylist.append(work_file.read())\n",
    "        # work_file.close()\n",
    "\n",
    "        # Add the current observation to the structured data set.\n",
    "        grandlist.append(mylist)\n",
    "    except FileNotFoundError:\n",
    "        # If file not found, provie output and log error.\n",
    "        print('Message number ' + str(i) + ' - Not found.')\n",
    "        error_log.append(''.join(('FileNotFoundError. Message number ', str(i))))\n",
    "    except KeyError:\n",
    "        # If any of the JSON keys (variables) not found, provie output and log error.\n",
    "        print('Message number ' + str(i) + ' - KeyError.')\n",
    "        error_log.append(''.join(('KeyError. Message number ', str(i))))\n",
    "    except OSError:\n",
    "        # If OSError, provie output and log error.\n",
    "        print('Message number ' + str(i) + ' - OSError.')\n",
    "        error_log.append(''.join(('OSError. Message number ', str(i))))"
   ]
  },
  {
   "cell_type": "code",
   "execution_count": 6,
   "metadata": {},
   "outputs": [
    {
     "data": {
      "text/plain": [
       "<function TextIOWrapper.close>"
      ]
     },
     "execution_count": 6,
     "metadata": {},
     "output_type": "execute_result"
    }
   ],
   "source": [
    "# Save error_log for later reference.\n",
    "with open(\n",
    "    ''.join((\n",
    "        grp_name, '_err_log_', \n",
    "        str(datetime.datetime.now())[2:16].replace(\" \", \"-\").replace(\":\",\"\"),\n",
    "        '.log')), mode='w') as logfile:\n",
    "            print('This is the error log file from {}'.format(\n",
    "                str(datetime.datetime.now())), file = logfile)\n",
    "            print('Yahoo Group name {}.'.format(grp_name), file=logfile)\n",
    "            for error_line in error_log:\n",
    "                print(error_line, file = logfile)\n",
    "logfile.close"
   ]
  },
  {
   "cell_type": "code",
   "execution_count": 7,
   "metadata": {},
   "outputs": [],
   "source": [
    "# Put structured data into a Pandas dataframe.\n",
    "grand_df = DataFrame(grandlist, \n",
    "                     columns=['userId','authName','subject','Unix','Date',\n",
    "                              'msgId','preInTpc','nxtInTpc','preInTime',\n",
    "                              'nxtInTime','topicId','MssgsInTopic'])"
   ]
  },
  {
   "cell_type": "code",
   "execution_count": 8,
   "metadata": {},
   "outputs": [
    {
     "data": {
      "text/html": [
       "<div>\n",
       "<style scoped>\n",
       "    .dataframe tbody tr th:only-of-type {\n",
       "        vertical-align: middle;\n",
       "    }\n",
       "\n",
       "    .dataframe tbody tr th {\n",
       "        vertical-align: top;\n",
       "    }\n",
       "\n",
       "    .dataframe thead th {\n",
       "        text-align: right;\n",
       "    }\n",
       "</style>\n",
       "<table border=\"1\" class=\"dataframe\">\n",
       "  <thead>\n",
       "    <tr style=\"text-align: right;\">\n",
       "      <th></th>\n",
       "      <th>userId</th>\n",
       "      <th>authName</th>\n",
       "      <th>subject</th>\n",
       "      <th>Unix</th>\n",
       "      <th>Date</th>\n",
       "      <th>msgId</th>\n",
       "      <th>preInTpc</th>\n",
       "      <th>nxtInTpc</th>\n",
       "      <th>preInTime</th>\n",
       "      <th>nxtInTime</th>\n",
       "      <th>topicId</th>\n",
       "      <th>MssgsInTopic</th>\n",
       "    </tr>\n",
       "  </thead>\n",
       "  <tbody>\n",
       "    <tr>\n",
       "      <th>0</th>\n",
       "      <td>0</td>\n",
       "      <td>Massimo Dentico</td>\n",
       "      <td>Re: [stack] joy applications</td>\n",
       "      <td>959462093</td>\n",
       "      <td>2000-05-27 16:14:53</td>\n",
       "      <td>120</td>\n",
       "      <td>119</td>\n",
       "      <td>121</td>\n",
       "      <td>119</td>\n",
       "      <td>121</td>\n",
       "      <td>107</td>\n",
       "      <td>68</td>\n",
       "    </tr>\n",
       "    <tr>\n",
       "      <th>1</th>\n",
       "      <td>0</td>\n",
       "      <td>stevan apter</td>\n",
       "      <td>Re: [stack] joy applications</td>\n",
       "      <td>959455101</td>\n",
       "      <td>2000-05-27 14:18:21</td>\n",
       "      <td>119</td>\n",
       "      <td>118</td>\n",
       "      <td>120</td>\n",
       "      <td>118</td>\n",
       "      <td>120</td>\n",
       "      <td>107</td>\n",
       "      <td>68</td>\n",
       "    </tr>\n",
       "    <tr>\n",
       "      <th>2</th>\n",
       "      <td>0</td>\n",
       "      <td>Samuel A. Falvo II</td>\n",
       "      <td>Re: [stack] joy applications</td>\n",
       "      <td>959449077</td>\n",
       "      <td>2000-05-27 12:37:57</td>\n",
       "      <td>118</td>\n",
       "      <td>117</td>\n",
       "      <td>119</td>\n",
       "      <td>117</td>\n",
       "      <td>119</td>\n",
       "      <td>107</td>\n",
       "      <td>68</td>\n",
       "    </tr>\n",
       "    <tr>\n",
       "      <th>3</th>\n",
       "      <td>0</td>\n",
       "      <td>Samuel A. Falvo II</td>\n",
       "      <td>Re: [stack] joy applications</td>\n",
       "      <td>959448793</td>\n",
       "      <td>2000-05-27 12:33:13</td>\n",
       "      <td>117</td>\n",
       "      <td>116</td>\n",
       "      <td>118</td>\n",
       "      <td>116</td>\n",
       "      <td>118</td>\n",
       "      <td>107</td>\n",
       "      <td>68</td>\n",
       "    </tr>\n",
       "    <tr>\n",
       "      <th>4</th>\n",
       "      <td>0</td>\n",
       "      <td>stevan apter</td>\n",
       "      <td>Re: [stack] joy applications</td>\n",
       "      <td>959441493</td>\n",
       "      <td>2000-05-27 10:31:33</td>\n",
       "      <td>116</td>\n",
       "      <td>115</td>\n",
       "      <td>117</td>\n",
       "      <td>115</td>\n",
       "      <td>117</td>\n",
       "      <td>107</td>\n",
       "      <td>68</td>\n",
       "    </tr>\n",
       "  </tbody>\n",
       "</table>\n",
       "</div>"
      ],
      "text/plain": [
       "   userId            authName                       subject       Unix  \\\n",
       "0       0     Massimo Dentico  Re: [stack] joy applications  959462093   \n",
       "1       0        stevan apter  Re: [stack] joy applications  959455101   \n",
       "2       0  Samuel A. Falvo II  Re: [stack] joy applications  959449077   \n",
       "3       0  Samuel A. Falvo II  Re: [stack] joy applications  959448793   \n",
       "4       0        stevan apter  Re: [stack] joy applications  959441493   \n",
       "\n",
       "                  Date  msgId  preInTpc  nxtInTpc  preInTime  nxtInTime  \\\n",
       "0  2000-05-27 16:14:53    120       119       121        119        121   \n",
       "1  2000-05-27 14:18:21    119       118       120        118        120   \n",
       "2  2000-05-27 12:37:57    118       117       119        117        119   \n",
       "3  2000-05-27 12:33:13    117       116       118        116        118   \n",
       "4  2000-05-27 10:31:33    116       115       117        115        117   \n",
       "\n",
       "   topicId  MssgsInTopic  \n",
       "0      107            68  \n",
       "1      107            68  \n",
       "2      107            68  \n",
       "3      107            68  \n",
       "4      107            68  "
      ]
     },
     "execution_count": 8,
     "metadata": {},
     "output_type": "execute_result"
    }
   ],
   "source": [
    "# Check results.\n",
    "grand_df.head()"
   ]
  },
  {
   "cell_type": "code",
   "execution_count": 9,
   "metadata": {},
   "outputs": [],
   "source": [
    "# Save to CSV\n",
    "grand_df.to_csv(grp_name + '_messages.csv')"
   ]
  },
  {
   "cell_type": "code",
   "execution_count": 10,
   "metadata": {},
   "outputs": [],
   "source": [
    "# Save to Stata\n",
    "# Problems on this. See: https://github.com/pandas-dev/pandas/issues/16450\n",
    "grand_df.to_stata(grp_name + '_messages.dta')"
   ]
  },
  {
   "cell_type": "code",
   "execution_count": 11,
   "metadata": {},
   "outputs": [],
   "source": [
    "# Save to Excel\n",
    "writer = pd.ExcelWriter(grp_name + '_messages.xlsx', engine='xlsxwriter')\n",
    "grand_df.to_excel(writer, sheet_name='Sheet1')\n",
    "writer.save()"
   ]
  },
  {
   "cell_type": "code",
   "execution_count": null,
   "metadata": {},
   "outputs": [],
   "source": []
  }
 ],
 "metadata": {
  "kernelspec": {
   "display_name": "Python 3",
   "language": "python",
   "name": "python3"
  },
  "language_info": {
   "codemirror_mode": {
    "name": "ipython",
    "version": 3
   },
   "file_extension": ".py",
   "mimetype": "text/x-python",
   "name": "python",
   "nbconvert_exporter": "python",
   "pygments_lexer": "ipython3",
   "version": "3.6.4"
  }
 },
 "nbformat": 4,
 "nbformat_minor": 2
}
